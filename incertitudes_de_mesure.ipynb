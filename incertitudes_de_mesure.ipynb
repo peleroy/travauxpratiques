{
 "cells": [
  {
   "cell_type": "markdown",
   "metadata": {},
   "source": [
    "<font size=\"6\"><b> Incertitudes de mesure </b></font>\n",
    "\n",
    "# Quelques définitons\n",
    "\n",
    "La quantification de la **variabilité** d’une mesure $x$ d’une grandeur est appelée **incertitude-type** et notée $u(x)$. Par définition, l’incertitude-type correspond à **l’écart-type** de la distribution des données issues d’une répétition de la mesure *dans les mêmes conditions*.\n",
    "> L’incertitude-type permet de quantifier la variabilité d’une mesure. Ainsi, deux mesures $x_1$ et $x_2$ issues du même processus sont séparées en moyenne de quelques u(x) par construction de l’incertitude-type en tant qu’écart-type.\n",
    "\n",
    "<img src=\"dispersion.png\" width=\"700\"/>\n",
    "\n",
    "On notera un résultat sous la forme :\n",
    "$$\n",
    "\\boxed{m=x \\pm u(x)}\n",
    "$$\n",
    "\n",
    "\n",
    "# Estimation du résultat d’une mesure et de l’incertitude-type\n",
    "## Expériences sans variabilité observée (incertitudes de type B)\n",
    "Certaines expériences n’ont pas de variabilité observée. Cela signifie qu’en reproduisant la mesure, on retrouve systématiquement le même résultat. C’est par exemple le cas lorsque l’on mesure naïvement la taille d’un objet avec la même règle graduée.\n",
    "\n",
    "Cette absence de variabilité observée n’implique pas une absence de variabilité. Cela signifie juste qu’à l’échelle de cette expérience, avec l’appareil de mesure choisi, la variabilité est plus faible que la précision de la mesure.\n",
    "> Ce phénomène n’est pas uniquement lié à l’appareil de mesure. En effet, selon les conditions expérimentales, il n’est parfois pas matériellement possible (ou souhaité) de reproduire le processus de mesure. Dans ce cas, une seule valeur est accessible et il faut tout de même estimer son incertitude-type.\n",
    "\n",
    "Lors d’une **mesure sans variabilité observée** :\n",
    "- On estime la valeur mesurée $x$ avec la **graduation la plus proche** (ou tout simplement la valeur affichée par l'appareil) plus petite plage dans laquelle l’expérimentateur ;\n",
    "- On estime la **demi-largeur** $\\Delta_{1/2}$ de la plus petite plage dans laquelle on est certain de trouver la valeur recherchée, et on estime **l'incertitude-type** $u(x)$ par :\n",
    "$$\n",
    "\\boxed{u(x)=\\dfrac{\\Delta_{1/2}}{\\sqrt{3}}}\n",
    "$$\n",
    "> Ce facteur $1/\\sqrt{3}$ correspond à l'écart-type d'une distribution unitaire uniforme.\n",
    "\n",
    "Ci-dessous un exemple :"
   ]
  },
  {
   "cell_type": "code",
   "execution_count": 4,
   "metadata": {},
   "outputs": [
    {
     "name": "stdout",
     "output_type": "stream",
     "text": [
      "u(x)= 0.16165807537309523\n"
     ]
    }
   ],
   "source": [
    "import numpy as np\n",
    "\n",
    "demi_largeur=0.28\n",
    "print('u(x)=',demi_largeur/np.sqrt(3))"
   ]
  },
  {
   "cell_type": "markdown",
   "metadata": {},
   "source": [
    "Le résultat de la mesure est bien sûr toujours :\n",
    "$$\n",
    "m=x \\pm u(x)\n",
    "$$\n",
    "> L’intervalle $\\Delta_{1/2}$ doit être pris le plus faible possible selon les critères personnels de l’expérimentateur et selon les conditions de l’expérience. Il ne doit pas y avoir de règle générale. Par exemple avec une règle graduée au millimètre, si la valeur tombe directement sur une graduation, il est naturel de prendre $\\Delta_{1/2}=0,25$ mm, tandis que si la valeur est entre deux graduations, on prendra plus logiquement $\\Delta_{1/2}=0,5$ mm. Et enfin, un étudiant peu sûr de lui peut choisir de prendre dans le même cas $\\Delta_{1/2}=1$ mm.\n",
    ">\n",
    "> Pour les appareils de mesure numérique, il est nécessaire de consulter la notice de l’appareil. Toutefois, bien souvent, les notices ne précisent pas clairement la nature de la valeur de la précision fournie (est-ce une incertitude-type ? Un intervalle ? Un écart-type d’une distribution gaussienne ?). Dans ce cas, on suppose que l’incertitude affichée sur la notice est un intervalle $\\Delta_{1/2}$ de certitude de trouver la mesure.\n",
    "\n",
    "## Expériences avec variabilité observée (incertitudes de type A)\n",
    "Lorsque la variabilité des mesures est accessible, il convient de répéter un grand nombre de fois le processus mesure pour estimer l’incertitude-type sur une unique réalisation de la mesure.\n",
    "\n",
    "L'écart-type est alors assimilé à l'incertitude-type :\n",
    "$$\n",
    "\\boxed{u(x)=\\sigma}\n",
    "$$\n",
    "\n",
    "On peut calculer l'écart-type d'un ensemble de mesures à l'aide du langage Python. Ci-dessous un exemple :"
   ]
  },
  {
   "cell_type": "code",
   "execution_count": 5,
   "metadata": {},
   "outputs": [
    {
     "name": "stdout",
     "output_type": "stream",
     "text": [
      "sigma= 1.118033988749895\n"
     ]
    }
   ],
   "source": [
    "import numpy as np\n",
    "\n",
    "valeurs=[\n",
    "1,2,3,4\n",
    "]\n",
    "\n",
    "ecarttype=np.std(valeurs)\n",
    "print('sigma=',ecarttype)"
   ]
  },
  {
   "cell_type": "markdown",
   "metadata": {},
   "source": [
    "Pour gagner en précision, nous pouvons utiliser les différents points de mesures effectués pour aller plus loin\n",
    "qu’une simple estimation de l’incertitude-type sur une mesure unique : **utiliser la moyenne des mesures** $\\overline{x}$ comme résultat de mesure.\n",
    "\n",
    "Par contre, l'incertitude-type sur la moyenne des valeurs $u(\\overline{x})$ n'est pas égale à l'incertitude-type sur chaque valeur $u(x)$ (obtenue en calculant l'écart-type sur la distribution de ces valeurs).\n",
    "\n",
    "Ainsi le résultat s'écrira :\n",
    "$$\n",
    "\\boxed{m=\\overline{x} \\pm u(\\overline{x})}\n",
    "$$\n",
    "\n",
    "Il existe une formule mathématique permettant d’estimer cet écart-type $u(\\overline{x})$ pour $N$ mesures :\n",
    "$$\n",
    "u(\\overline{x})=\\dfrac{u(x)}{\\sqrt{N}}=\\dfrac{\\sigma}{\\sqrt{N}}\n",
    "$$\n",
    "> En toute rigueur il faudrait remplacer $N$ par $N-1$, sinon un biais est introduit.\n",
    "\n",
    "Ainsi, en une série de mesure, on obtient les points expérimentaux, leur incertitude-type, la moyenne de ces points et grâce à cette formule, l’incertitude-type sur la moyenne. On obtient ainsi une estimation plus précise de la grandeur à mesurer en modérant la variabilité de chaque prise de mesure unique.\n",
    "\n",
    "Ci-dessous un exemple :"
   ]
  },
  {
   "cell_type": "code",
   "execution_count": 6,
   "metadata": {},
   "outputs": [
    {
     "name": "stdout",
     "output_type": "stream",
     "text": [
      "x= 2.5 +/- 0.5590169943749475\n"
     ]
    }
   ],
   "source": [
    "import numpy as np\n",
    "\n",
    "valeurs=[\n",
    "1,2,3,4\n",
    "]\n",
    "\n",
    "moyenne=np.average(valeurs)\n",
    "ecarttype=np.std(valeurs)\n",
    "print('x=',moyenne,'+/-',ecarttype/np.sqrt(len(valeurs)))"
   ]
  },
  {
   "cell_type": "markdown",
   "metadata": {},
   "source": [
    "# Les incertitudes-type composées\n",
    "Très souvent, la mesure expérimentale n’est pas le résultat recherché de l’expérience. Il faut souvent combiner des mesures entre elles pour obtenir le résultat souhaité.\n",
    "\n",
    "## Incertitude-type composée de type somme\n",
    "Supposons que l’on calcule $y=\\alpha x_1+\\beta x_2$. L’incertitude-type de $y$ est alors donnée par :\n",
    "$$\n",
    "\\boxed{u(y)=\\sqrt{(\\alpha \\ u(x_1))^2+(\\beta \\ u(x_2))^2}}\n",
    "$$\n",
    "\n",
    "Ci-dessous un exemple :"
   ]
  },
  {
   "cell_type": "code",
   "execution_count": 7,
   "metadata": {},
   "outputs": [
    {
     "name": "stdout",
     "output_type": "stream",
     "text": [
      "u(y)= 4.8373546489791295\n"
     ]
    }
   ],
   "source": [
    "import numpy as np\n",
    "\n",
    "ux1=1.2\n",
    "ux2=0.6\n",
    "\n",
    "uy=np.sqrt((2*ux1)**2+(7*ux2)**2)\n",
    "print('u(y)=',uy)"
   ]
  },
  {
   "cell_type": "markdown",
   "metadata": {},
   "source": [
    "## Incertitudes-type composées de type produit\n",
    "Supposons que l’on calcule $y=a x_1^\\alpha x_2^\\beta$. L’incertitude-type relative de $y$ est alors donnée par :\n",
    "$$\n",
    "u(y)\n",
    "=\n",
    "y\n",
    "3.3\n",
    "s\u0012\n",
    "u(x 1 )\n",
    "α\n",
    "x 1\n",
    "\u0013 2\n",
    "u(x 2 )\n",
    "+ β\n",
    "x 2\n",
    "\u0012\n",
    "\u0013 2\n",
    "$$"
   ]
  },
  {
   "cell_type": "code",
   "execution_count": null,
   "metadata": {},
   "outputs": [],
   "source": []
  },
  {
   "cell_type": "code",
   "execution_count": null,
   "metadata": {},
   "outputs": [],
   "source": []
  },
  {
   "cell_type": "code",
   "execution_count": null,
   "metadata": {},
   "outputs": [],
   "source": []
  },
  {
   "cell_type": "markdown",
   "metadata": {},
   "source": [
    "On commence par importer les bibliothèques nécessaires :\n",
    "> La ligne suivante sert à l'affichage des graphes dans le notebook."
   ]
  },
  {
   "cell_type": "code",
   "execution_count": null,
   "metadata": {},
   "outputs": [],
   "source": [
    "%matplotlib notebook"
   ]
  },
  {
   "cell_type": "code",
   "execution_count": null,
   "metadata": {},
   "outputs": [],
   "source": []
  },
  {
   "cell_type": "markdown",
   "metadata": {},
   "source": [
    "# Comparaison de deux mesures : l'écart normalisé\n",
    "Pour comparer 2 mesures, on utilise **l'écart normalisé** ou **z-score** :\n",
    "$$\n",
    "E_N=\\dfrac{\\left|x_2-x_1\\right|}{\\sqrt{u(x_1)^2+u(x_2)^2}}\n",
    "$$\n",
    "\n",
    "Par convention, on qualifie deux résultats de **compatibles** si leur écart normalisé vérifie la propriété :\n",
    "$$\n",
    "\\boxed{E_N \\lesssim 2}\n",
    "$$\n",
    "> Ce seuil à 2 est d’origine historique. On le retrouve dans de nombreux champs scientifiques, comme la médecine, la pharmacie, la biologie, la psychologie, l’économie, l’écologie, etc. Ce seuil peut différer selon le domaine : par exemple pour démontrer l’existence d’une nouvelle particule en physique subatomique, il faut atteindre un seuil de 5."
   ]
  },
  {
   "cell_type": "code",
   "execution_count": null,
   "metadata": {},
   "outputs": [],
   "source": []
  },
  {
   "cell_type": "code",
   "execution_count": null,
   "metadata": {},
   "outputs": [],
   "source": []
  }
 ],
 "metadata": {
  "kernelspec": {
   "display_name": "Python 3",
   "language": "python",
   "name": "python3"
  },
  "language_info": {
   "codemirror_mode": {
    "name": "ipython",
    "version": 3
   },
   "file_extension": ".py",
   "mimetype": "text/x-python",
   "name": "python",
   "nbconvert_exporter": "python",
   "pygments_lexer": "ipython3",
   "version": "3.8.10"
  }
 },
 "nbformat": 4,
 "nbformat_minor": 4
}
